{
 "cells": [
  {
   "cell_type": "code",
   "execution_count": null,
   "metadata": {},
   "outputs": [],
   "source": [
    "import cv2\n",
    "import numpy as np"
   ]
  },
  {
   "cell_type": "code",
   "execution_count": null,
   "metadata": {},
   "outputs": [],
   "source": [
    "cap=cv2.VideoCapture('MVI_0076.MP4')"
   ]
  },
  {
   "cell_type": "code",
   "execution_count": null,
   "metadata": {},
   "outputs": [],
   "source": [
    "# reading back-to-back frames(images) from video\n",
    "\n",
    "ret, frame1 = cap.read()\n",
    "ret, frame2 = cap.read()\n",
    "\n",
    "while cap.isOpened():\n",
    "       diff = cv2.absdiff(frame1, frame2)\n",
    "       gray = cv2.cvtColor(diff, cv2.COLOR_BGR2GRAY)\n",
    "       blur = cv2.GaussianBlur(gray, (5, 5), 0)\n",
    "       _, thresh = cv2.threshold(blur, 20, 255, cv2.THRESH_BINARY)\n",
    "       dilated = cv2.dilate(thresh, None, iterations=4)\n",
    "       contours, hirarchy = cv2.findContours(dilated, cv2.RETR_TREE, cv2.CHAIN_APPROX_SIMPLE)\n",
    "       for contour in contours:\n",
    "              (x, y, w, h) = cv2.boundingRect(contour)\n",
    "              if cv2.contourArea(contour) < 700:\n",
    "                     continue\n",
    "              cv2.rectangle(frame1, (x, y), (x+w, y+h), (0, 255, 255), 2)\n",
    "       cv2.imshow('Motion Detector', frame1)\n",
    "       cv2.imshow('Difference Frame', thresh)\n",
    "       frame1 = frame2\n",
    "       ret, frame2 = cap.read()\n",
    "       if cv2.waitKey(40) == 27:\n",
    "              break\n",
    "\n",
    "# Release cap resource\n",
    "cap.release()\n",
    "cv2.destroyAllWindows()"
   ]
  }
 ],
 "metadata": {
  "kernelspec": {
   "display_name": "Python 3",
   "language": "python",
   "name": "python3"
  },
  "language_info": {
   "codemirror_mode": {
    "name": "ipython",
    "version": 3
   },
   "file_extension": ".py",
   "mimetype": "text/x-python",
   "name": "python",
   "nbconvert_exporter": "python",
   "pygments_lexer": "ipython3",
   "version": "3.6.5"
  }
 },
 "nbformat": 4,
 "nbformat_minor": 4
}
