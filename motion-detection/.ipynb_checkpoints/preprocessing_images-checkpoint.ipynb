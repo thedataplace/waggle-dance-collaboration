{
 "cells": [
  {
   "cell_type": "code",
   "execution_count": null,
   "metadata": {},
   "outputs": [],
   "source": [
    "import cv2\n",
    "import math\n",
    "import matplotlib.pyplot as plt\n",
    "%matplotlib inline\n",
    "import pandas as pd\n",
    "import sys\n",
    "from keras.preprocessing import image\n",
    "import numpy as np\n",
    "from keras.utils import np_utils\n",
    "from skimage.transform import resize\n",
    "\n",
    "# colours\n",
    "SCALAR_BLACK = (0.0,0.0,0.0)\n",
    "SCALAR_WHITE = (255.0,255.0,255.0)\n",
    "SCALAR_YELLOW = (0.0,255.0,255.0)\n",
    "SCALAR_GREEN = (0.0,255.0,0.0)\n",
    "SCALAR_RED = (0.0,0.0,255.0)\n",
    "SCALAR_CYAN = (255.0,255.0,0.0)\n",
    "\n",
    "SHOW_DEBUG_STEPS  = True"
   ]
  },
  {
   "cell_type": "code",
   "execution_count": null,
   "metadata": {},
   "outputs": [],
   "source": [
    "def plot_image(images, captions=None, cmap=None ):\n",
    "    f, axes = plt.subplots(1, len(images), sharey=True)\n",
    "    f.set_figwidth(15)\n",
    "    for ax,image,caption in zip(axes, images, captions):\n",
    "        ax.imshow(image, cmap)\n",
    "        ax.set_title(caption)\n",
    "        \n",
    "cap = cv2.VideoCapture('MVI_0076.MP4')\n",
    "if not(cap.isOpened()):\n",
    "    print(\"Error reading file\")\n",
    "ret, fFrame  = cap.read()\n",
    "ret, fFrame1 = cap.read()\n",
    "ret, fFrame2 = cap.read()\n",
    "img1 = fFrame1.copy()\n",
    "img2 = fFrame2.copy()\n",
    "\n",
    "if(SHOW_DEBUG_STEPS):\n",
    "    print ('img1 height' + str(img1.shape[0]))\n",
    "    print ('img1 width' + str(img1.shape[1]))\n",
    "    print ('img2 height' + str(img2.shape[0]))\n",
    "    print ('img2 width' + str(img2.shape[1]))\n",
    "\n",
    "img1 = cv2.cvtColor(img1, cv2.COLOR_BGR2GRAY)\n",
    "img2 = cv2.cvtColor(img2, cv2.COLOR_BGR2GRAY)\n",
    "\n",
    "# plot_image([img1, img2], cmap='gray', captions=[\"First frame\", \"Second frame\"])"
   ]
  },
  {
   "cell_type": "code",
   "execution_count": null,
   "metadata": {},
   "outputs": [],
   "source": [
    "img1 = cv2.GaussianBlur(img1,(5,5),0)\n",
    "img2 = cv2.GaussianBlur(img2,(5,5),0)\n",
    "# plot_image([img1, img2], cmap='gray', captions=[\"GaussianBlur first frame\", \"GaussianBlur second frame\"])"
   ]
  },
  {
   "cell_type": "code",
   "execution_count": null,
   "metadata": {},
   "outputs": [],
   "source": [
    "imgDiff = cv2.absdiff(img1, img2) \n",
    "ret,imgThresh = cv2.threshold(imgDiff,30.0,255.0,cv2.THRESH_BINARY)\n",
    "ht = np.size(imgThresh,0)\n",
    "wd = np.size(imgThresh,1)\n",
    "# plot_image([imgDiff, imgThresh], cmap='gray', captions = [\"Difference between 2 frames\", \"Difference between 2 frames after threshold\"])"
   ]
  },
  {
   "cell_type": "code",
   "execution_count": null,
   "metadata": {},
   "outputs": [],
   "source": [
    "# STRUCS\n",
    "strucEle3x3 = cv2.getStructuringElement(cv2.MORPH_RECT,(3,3))\n",
    "strucEle5x5 = cv2.getStructuringElement(cv2.MORPH_RECT,(5,5))\n",
    "strucEle7x7 = cv2.getStructuringElement(cv2.MORPH_RECT,(7,7))        \n",
    "strucEle15x15 = cv2.getStructuringElement(cv2.MORPH_RECT,(15,15))\n",
    "\n",
    "# plot_image([strucEle3x3, strucEle5x5, strucEle7x7, strucEle15x15], cmap='gray', captions = [\"strucEle3x3\", \"strucEle5x5\", \"strucEle7x7\", \"strucEle15x15\"])"
   ]
  },
  {
   "cell_type": "code",
   "execution_count": null,
   "metadata": {},
   "outputs": [],
   "source": [
    "for i in range(2):\n",
    "    imgThresh = cv2.dilate(imgThresh,strucEle5x5,iterations = 2)\n",
    "    imgThresh = cv2.erode(imgThresh,strucEle5x5,iterations = 1)\n",
    "    imgThreshCopy = imgThresh.copy()\n",
    "    if(SHOW_DEBUG_STEPS):        \n",
    "        print ('imgThreshCopy height' + str(imgThreshCopy.shape[0]))\n",
    "        print ('imgThreshCopy width' + str(imgThreshCopy.shape[1]))  \n",
    "plt.imshow(imgThresh, cmap = 'gray')    \n",
    "# plt.show()"
   ]
  },
  {
   "cell_type": "code",
   "execution_count": null,
   "metadata": {},
   "outputs": [],
   "source": [
    "def drawAndShowContours(wd,ht,contours,strImgName):\n",
    "    global SCALAR_WHITE\n",
    "    global SHOW_DEBUG_STEPS\n",
    "    blank_image = np.zeros((ht,wd,3), np.uint8)\n",
    "    #cv2.drawContours(blank_image,contours,10,SCALAR_WHITE,-1)\n",
    "    # Adding all possible contour to the blank frame. Contour is white \n",
    "    cv2.drawContours(blank_image,contours,-1,SCALAR_WHITE,-1)    \n",
    "    blank_image_contour_220 = np.zeros((ht,wd,3), np.uint8)    \n",
    "    cv2.drawContours(blank_image_contour_220,contours,8,SCALAR_WHITE,-1)    \n",
    "    plot_image([blank_image, blank_image_contour_220], cmap='gray', captions = [\"All possible contours\", \"Only the 220th contour\"])   \n",
    "    return blank_image"
   ]
  },
  {
   "cell_type": "code",
   "execution_count": null,
   "metadata": {},
   "outputs": [],
   "source": [
    "contours, hierarchy = cv2.findContours(imgThreshCopy,cv2.RETR_EXTERNAL,cv2.CHAIN_APPROX_SIMPLE)\n",
    "im2 = drawAndShowContours(wd,ht,contours,'imgContours')\n",
    "# Printing all the coutours in the image.\n",
    "if(SHOW_DEBUG_STEPS):\n",
    "    print ('contours.shape: ' + str(len(contours)))"
   ]
  },
  {
   "cell_type": "code",
   "execution_count": null,
   "metadata": {},
   "outputs": [],
   "source": [
    "# HULLS\n",
    "hulls = contours\n",
    "for i in range(len(contours)):\n",
    "    hulls[i] = cv2.convexHull(contours[i])\n",
    "im3 = drawAndShowContours(wd,ht,hulls,'imgConvexHulls')"
   ]
  }
 ],
 "metadata": {
  "kernelspec": {
   "display_name": "Python 3",
   "language": "python",
   "name": "python3"
  },
  "language_info": {
   "codemirror_mode": {
    "name": "ipython",
    "version": 3
   },
   "file_extension": ".py",
   "mimetype": "text/x-python",
   "name": "python",
   "nbconvert_exporter": "python",
   "pygments_lexer": "ipython3",
   "version": "3.6.5"
  }
 },
 "nbformat": 4,
 "nbformat_minor": 4
}
